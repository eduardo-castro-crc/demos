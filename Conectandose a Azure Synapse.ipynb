{
    "metadata": {
        "kernelspec": {
            "name": "python3",
            "display_name": "Python 3"
        },
        "language_info": {
            "name": "python",
            "version": "3.6.6",
            "mimetype": "text/x-python",
            "codemirror_mode": {
                "name": "ipython",
                "version": 3
            },
            "pygments_lexer": "ipython3",
            "nbconvert_exporter": "python",
            "file_extension": ".py"
        }
    },
    "nbformat_minor": 2,
    "nbformat": 4,
    "cells": [
        {
            "cell_type": "code",
            "source": [
                "pip install scipy"
            ],
            "metadata": {
                "azdata_cell_guid": "67478d6c-e281-4288-a6f8-3284536824c3"
            },
            "outputs": [
                {
                    "name": "stdout",
                    "text": "Collecting scipy\n  Downloading https://files.pythonhosted.org/packages/8d/2f/fcb6150813b89d628749784370132e431f687ebab5a1063eb298cc941f76/scipy-1.4.1-cp36-cp36m-win_amd64.whl (30.8MB)\nRequirement already satisfied: numpy>=1.13.3 in c:\\users\\edoca\\azuredatastudio-python\\0.0.1\\lib\\site-packages (from scipy) (1.17.3)\nInstalling collected packages: scipy\nSuccessfully installed scipy-1.4.1\nNote: you may need to restart the kernel to use updated packages.\n",
                    "output_type": "stream"
                },
                {
                    "name": "stderr",
                    "text": "WARNING: You are using pip version 19.3.1; however, version 20.1 is available.\nYou should consider upgrading via the 'python -m pip install --upgrade pip' command.\n",
                    "output_type": "stream"
                }
            ],
            "execution_count": 26
        },
        {
            "cell_type": "code",
            "source": [
                "pip install tables"
            ],
            "metadata": {
                "azdata_cell_guid": "fd1d63fd-35f0-4c18-a71f-2360e7fb276e"
            },
            "outputs": [
                {
                    "output_type": "stream",
                    "name": "stdout",
                    "text": "Collecting tables\n  Downloading https://files.pythonhosted.org/packages/50/e2/c26a7eec516ef3cb337e77fb8d2310d095750c634de27c295dc3466d9d02/tables-3.6.1-2-cp36-cp36m-win_amd64.whl (3.2MB)\nCollecting numexpr>=2.6.2\n  Downloading https://files.pythonhosted.org/packages/6c/6b/44a9ddee4cdb260be71a2900b8a961897c13620bad6f4770b47dd7b32bf1/numexpr-2.7.1-cp36-none-win_amd64.whl (90kB)\nRequirement already satisfied: numpy>=1.9.3 in c:\\users\\edoca\\azuredatastudio-python\\0.0.1\\lib\\site-packages (from tables) (1.17.3)\nInstalling collected packages: numexpr, tables\nSuccessfully installed numexpr-2.7.1 tables-3.6.1\nNote: you may need to restart the kernel to use updated packages.\n"
                },
                {
                    "output_type": "stream",
                    "name": "stderr",
                    "text": "WARNING: You are using pip version 19.3.1; however, version 20.1 is available.\nYou should consider upgrading via the 'python -m pip install --upgrade pip' command.\n"
                }
            ],
            "execution_count": 6
        },
        {
            "cell_type": "code",
            "source": [
                "pip install pyodbc"
            ],
            "metadata": {
                "azdata_cell_guid": "ecb78862-e79e-4f9b-85f5-095746aa1df7"
            },
            "outputs": [
                {
                    "output_type": "stream",
                    "name": "stdout",
                    "text": "Collecting pyodbc\n  Downloading https://files.pythonhosted.org/packages/83/ad/b8b109c6ce0c5cd306218337fcd8226bff24e803f17aea339d1fe1e0070b/pyodbc-4.0.30-cp36-cp36m-win_amd64.whl (78kB)\nInstalling collected packages: pyodbc\nSuccessfully installed pyodbc-4.0.30\nNote: you may need to restart the kernel to use updated packages.\n"
                },
                {
                    "output_type": "stream",
                    "name": "stderr",
                    "text": "WARNING: You are using pip version 19.3.1; however, version 20.1 is available.\nYou should consider upgrading via the 'python -m pip install --upgrade pip' command.\n"
                }
            ],
            "execution_count": 4
        },
        {
            "cell_type": "code",
            "source": [
                "pip install matplotlib"
            ],
            "metadata": {
                "azdata_cell_guid": "080990c9-95e4-458d-97c1-044687d41549"
            },
            "outputs": [
                {
                    "output_type": "stream",
                    "name": "stdout",
                    "text": "Collecting matplotlib\n  Downloading https://files.pythonhosted.org/packages/59/77/7a13ef25b0503311d8603074959c129cd60ef0eb26979aba7a7ed5b9e792/matplotlib-3.2.1-cp36-cp36m-win_amd64.whl (9.2MB)\nRequirement already satisfied: numpy>=1.11 in c:\\users\\edoca\\azuredatastudio-python\\0.0.1\\lib\\site-packages (from matplotlib) (1.17.3)\nCollecting kiwisolver>=1.0.1\n  Downloading https://files.pythonhosted.org/packages/2a/1e/f53031838c75cef71086ab7fc0dea1853d811ba3ec72465d782877223f09/kiwisolver-1.2.0-cp36-none-win_amd64.whl (57kB)\nRequirement already satisfied: pyparsing!=2.0.4,!=2.1.2,!=2.1.6,>=2.0.1 in c:\\users\\edoca\\azuredatastudio-python\\0.0.1\\lib\\site-packages (from matplotlib) (2.4.7)\nRequirement already satisfied: python-dateutil>=2.1 in c:\\users\\edoca\\azuredatastudio-python\\0.0.1\\lib\\site-packages (from matplotlib) (2.8.1)\nCollecting cycler>=0.10\n  Downloading https://files.pythonhosted.org/packages/f7/d2/e07d3ebb2bd7af696440ce7e754c59dd546ffe1bbe732c8ab68b9c834e61/cycler-0.10.0-py2.py3-none-any.whl\nRequirement already satisfied: six>=1.5 in c:\\users\\edoca\\azuredatastudio-python\\0.0.1\\lib\\site-packages (from python-dateutil>=2.1->matplotlib) (1.13.0)\nInstalling collected packages: kiwisolver, cycler, matplotlib\nSuccessfully installed cycler-0.10.0 kiwisolver-1.2.0 matplotlib-3.2.1\nNote: you may need to restart the kernel to use updated packages.\n"
                },
                {
                    "output_type": "stream",
                    "name": "stderr",
                    "text": "WARNING: You are using pip version 19.3.1; however, version 20.1 is available.\nYou should consider upgrading via the 'python -m pip install --upgrade pip' command.\n"
                }
            ],
            "execution_count": 2
        },
        {
            "cell_type": "code",
            "source": [
                "import pandas as pd\r\n",
                "from pandas import Series, DataFrame\r\n",
                "import numpy as np\r\n",
                "import matplotlib.pyplot as plt\r\n",
                "from time import time\r\n",
                "import pyodbc\r\n",
                "import os\r\n",
                "import tables\r\n",
                "import time"
            ],
            "metadata": {
                "azdata_cell_guid": "9878342c-b118-4bf7-9a85-bf95b5654f21",
                "tags": []
            },
            "outputs": [],
            "execution_count": 1
        },
        {
            "cell_type": "code",
            "source": [
                "%matplotlib inline"
            ],
            "metadata": {
                "azdata_cell_guid": "6878c1a4-2a8e-4b00-80eb-dd7c46831118"
            },
            "outputs": [],
            "execution_count": 2
        },
        {
            "cell_type": "code",
            "source": [
                "SERVER_NAME = 'server.database.windows.net'\r\n",
                "DATABASE_NAME = 'dbname'\r\n",
                "USERID = 'dbadmin'\r\n",
                "PASSWORD = 'dbpassword'\r\n",
                "DB_DRIVER = 'SQL Server Native Client 11.0'"
            ],
            "metadata": {
                "azdata_cell_guid": "f447956c-0539-4e80-9f3b-0cb8ecf9787e"
            },
            "outputs": [],
            "execution_count": 11
        },
        {
            "cell_type": "markdown",
            "source": [
                "Create Database Connection"
            ],
            "metadata": {
                "azdata_cell_guid": "3c26d461-6bdd-40f6-96cd-19424def3248"
            }
        },
        {
            "cell_type": "code",
            "source": [
                "driver = 'DRIVER={' + DB_DRIVER + '}'\r\n",
                "server = 'SERVER=' + SERVER_NAME \r\n",
                "database = 'DATABASE=' + DATABASE_NAME\r\n",
                "uid = 'UID=' + USERID \r\n",
                "pwd = 'PWD=' + PASSWORD"
            ],
            "metadata": {
                "azdata_cell_guid": "7d15af28-a23e-447d-ba1e-fae7379e2587"
            },
            "outputs": [],
            "execution_count": 12
        },
        {
            "cell_type": "code",
            "source": [
                "CONNECTION_STRING = ';'.join([driver,server,database,uid,pwd, ';TDS_VERSION=7.3;Port=1433'])\r\n",
                "print(CONNECTION_STRING)\r\n",
                "conn = pyodbc.connect(CONNECTION_STRING)"
            ],
            "metadata": {
                "azdata_cell_guid": "2a33646b-6fc3-4ee4-bf51-79903f7319fa"
            },
            "outputs": [
                {
                    "name": "stdout",
                    "text": "DRIVER={SQL Server Native Client 11.0};SERVER=lp2020synapse.database.windows.net;DATABASE=LPSQLPool;UID=lpadmin;PWD=Sprache2000;;TDS_VERSION=7.3;Port=1433\n",
                    "output_type": "stream"
                }
            ],
            "execution_count": 32
        },
        {
            "cell_type": "code",
            "source": [
                "nrows = pd.read_sql('''SELECT SUM(rows) FROM sys.partitions WHERE object_id = OBJECT_ID('dbo.nyc_trip_data2')''', conn)\r\n",
                "print ('Total number of rows = %d' % nrows.iloc[0,0])\r\n",
                "\r\n",
                "ncols = pd.read_sql('''SELECT count(*) FROM information_schema.columns WHERE table_name = ('nyc_trip_data2') AND table_schema = ('dbo')''', conn)\r\n",
                "print ('Total number of columns = %d' % ncols.iloc[0,0])"
            ],
            "metadata": {
                "azdata_cell_guid": "3b3db7de-aad7-4554-ba22-99157c0cb122"
            },
            "outputs": [
                {
                    "name": "stdout",
                    "text": "Total number of rows = 28766791\nTotal number of columns = 14\n",
                    "output_type": "stream"
                }
            ],
            "execution_count": 33
        },
        {
            "cell_type": "code",
            "source": [
                "nrows = pd.read_sql('''SELECT SUM(rows) FROM sys.partitions WHERE object_id = OBJECT_ID('dbo.nyctaxi_fare')''', conn)\r\n",
                "print ('Total number of rows = %d' % nrows.iloc[0,0])\r\n",
                "\r\n",
                "ncols = pd.read_sql('''SELECT count(*) FROM information_schema.columns WHERE table_name = ('nyctaxi_fare') AND table_schema = ('dbo')''', conn)\r\n",
                "print ('Total number of columns = %d' % ncols.iloc[0,0])"
            ],
            "metadata": {
                "azdata_cell_guid": "7ee0f80d-020a-44a5-8dd6-ff83a8b4af62"
            },
            "outputs": [
                {
                    "name": "stdout",
                    "text": "Total number of rows = 1000\nTotal number of columns = 11\n",
                    "output_type": "stream"
                }
            ],
            "execution_count": 20
        },
        {
            "cell_type": "code",
            "source": [
                "t0 = time.time()\r\n",
                "\r\n",
                "#load only a small percentage of the joined data for some quick visuals\r\n",
                "df1 = pd.read_sql('''select top 10000 t.*, f.payment_type, f.fare_amount, f.surcharge, f.mta_tax, \r\n",
                "      f.tolls_amount, f.total_amount, f.tip_amount \r\n",
                "      from dbo.nyc_trip_data2 t, dbo.nyctaxi_fare f where datepart(\"mi\",t.pickup_datetime)=0 and t.medallion = f.medallion \r\n",
                "      and t.hack_license = f.hack_license and t.pickup_datetime = f.pickup_datetime''', conn)\r\n",
                "\r\n",
                "t1 = time.time()\r\n",
                "print ('Time to read the sample table is %f seconds' % (t1-t0))\r\n",
                "\r\n",
                "print ('Number of rows and columns retrieved = (%d, %d)' % (df1.shape[0], df1.shape[1]))"
            ],
            "metadata": {
                "azdata_cell_guid": "3c52d4ae-3a04-4196-a9d6-2490bf4114a0"
            },
            "outputs": [
                {
                    "name": "stdout",
                    "text": "Time to read the sample table is 9.033924 seconds\nNumber of rows and columns retrieved = (10000, 21)\n",
                    "output_type": "stream"
                }
            ],
            "execution_count": 34
        },
        {
            "cell_type": "code",
            "source": [
                "df1['trip_distance'].describe()"
            ],
            "metadata": {
                "azdata_cell_guid": "a03694f7-d187-459d-abd3-4d2acf6e20ff"
            },
            "outputs": [
                {
                    "data": {
                        "text/plain": "count    10000.000000\nmean         0.967720\nstd          0.325046\nmin          0.000000\n25%          0.800000\n50%          0.950000\n75%          1.120000\nmax         13.500000\nName: trip_distance, dtype: float64"
                    },
                    "metadata": {},
                    "execution_count": 35,
                    "output_type": "execute_result"
                }
            ],
            "execution_count": 35
        },
        {
            "cell_type": "code",
            "source": [
                "df1.boxplot(column='trip_distance',return_type='dict')"
            ],
            "metadata": {
                "azdata_cell_guid": "141a49da-c656-409b-b01e-4f0195006358"
            },
            "outputs": [
                {
                    "data": {
                        "text/plain": "{'whiskers': [<matplotlib.lines.Line2D at 0x21e1ac3c6d8>,\n  <matplotlib.lines.Line2D at 0x21e1ac3ca58>],\n 'caps': [<matplotlib.lines.Line2D at 0x21e1ac3cdd8>,\n  <matplotlib.lines.Line2D at 0x21e1aca2198>],\n 'boxes': [<matplotlib.lines.Line2D at 0x21e1ac3c390>],\n 'medians': [<matplotlib.lines.Line2D at 0x21e1aca2518>],\n 'fliers': [<matplotlib.lines.Line2D at 0x21e1aca2898>],\n 'means': []}"
                    },
                    "metadata": {},
                    "execution_count": 24,
                    "output_type": "execute_result"
                },
                {
                    "data": {
                        "text/plain": "<Figure size 432x288 with 1 Axes>",
                        "image/png": "[encoded data removed]"
                    },
                    "metadata": {
                        "needs_background": "light"
                    },
                    "output_type": "display_data"
                }
            ],
            "execution_count": 24
        },
        {
            "cell_type": "code",
            "source": [
                "fig = plt.figure()\r\n",
                "ax1 = fig.add_subplot(1,2,1)\r\n",
                "ax2 = fig.add_subplot(1,2,2)\r\n",
                "df1['trip_distance'].plot(ax=ax1,kind='kde', style='b-')\r\n",
                "df1['trip_distance'].hist(ax=ax2, bins=100, color='k')"
            ],
            "metadata": {
                "azdata_cell_guid": "2c3e7291-1b43-4a91-8132-46e29c72495c"
            },
            "outputs": [
                {
                    "data": {
                        "text/plain": "<matplotlib.axes._subplots.AxesSubplot at 0x21e1b5ad390>"
                    },
                    "metadata": {},
                    "execution_count": 36,
                    "output_type": "execute_result"
                },
                {
                    "data": {
                        "text/plain": "<Figure size 432x288 with 2 Axes>",
                        "image/png": "[encoded data removed]"
                    },
                    "metadata": {
                        "needs_background": "light"
                    },
                    "output_type": "display_data"
                }
            ],
            "execution_count": 36
        },
        {
            "cell_type": "code",
            "source": [
                "\r\n",
                "trip_dist_bins = [0, 1, 2, 4, 10, 1000]\r\n",
                "df1['trip_distance']\r\n",
                "trip_dist_bin_id = pd.cut(df1['trip_distance'], trip_dist_bins)\r\n",
                "trip_dist_bin_id"
            ],
            "metadata": {
                "azdata_cell_guid": "edf30c72-1a65-4ae2-8ae7-fcc30fca690b"
            },
            "outputs": [
                {
                    "data": {
                        "text/plain": "0       (1, 2]\n1       (1, 2]\n2       (1, 2]\n3       (0, 1]\n4       (0, 1]\n         ...  \n9995    (0, 1]\n9996    (0, 1]\n9997    (0, 1]\n9998    (0, 1]\n9999    (1, 2]\nName: trip_distance, Length: 10000, dtype: category\nCategories (5, interval[int64]): [(0, 1] < (1, 2] < (2, 4] < (4, 10] < (10, 1000]]"
                    },
                    "metadata": {},
                    "execution_count": 28,
                    "output_type": "execute_result"
                }
            ],
            "execution_count": 28
        },
        {
            "cell_type": "code",
            "source": [
                "pd.Series(trip_dist_bin_id).value_counts()"
            ],
            "metadata": {
                "azdata_cell_guid": "c3b6e7da-2848-4215-821b-74caf381ee49"
            },
            "outputs": [
                {
                    "data": {
                        "text/plain": "(0, 1]        6405\n(1, 2]        3583\n(4, 10]          3\n(2, 4]           2\n(10, 1000]       1\nName: trip_distance, dtype: int64"
                    },
                    "metadata": {},
                    "execution_count": 29,
                    "output_type": "execute_result"
                }
            ],
            "execution_count": 29
        },
        {
            "cell_type": "code",
            "source": [
                "pd.Series(trip_dist_bin_id).value_counts().plot(kind='bar')"
            ],
            "metadata": {
                "azdata_cell_guid": "aad5180e-ab82-4b6b-9ffa-ccd64c4ed1a2"
            },
            "outputs": [
                {
                    "data": {
                        "text/plain": "<matplotlib.axes._subplots.AxesSubplot at 0x21e1ecc87b8>"
                    },
                    "metadata": {},
                    "execution_count": 30,
                    "output_type": "execute_result"
                },
                {
                    "data": {
                        "text/plain": "<Figure size 432x288 with 1 Axes>",
                        "image/png": "[encoded data removed]"
                    },
                    "metadata": {
                        "needs_background": "light"
                    },
                    "output_type": "display_data"
                }
            ],
            "execution_count": 30
        }
    ]
}